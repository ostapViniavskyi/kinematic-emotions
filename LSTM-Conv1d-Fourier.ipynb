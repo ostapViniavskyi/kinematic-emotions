{
 "cells": [
  {
   "cell_type": "code",
   "execution_count": 93,
   "metadata": {},
   "outputs": [],
   "source": [
    "import torch\n",
    "import torch.nn as nn\n",
    "import torch.nn.functional as F\n",
    "import numpy as np\n",
    "import pandas as pd\n",
    "import glob\n",
    "import os\n",
    "import pickle\n",
    "from collections import OrderedDict\n",
    "\n",
    "\n",
    "from scipy import signal\n",
    "from tqdm import tqdm\n",
    "from pathlib import Path\n",
    "from sklearn.pipeline import Pipeline\n",
    "from torchsummary import summary\n",
    "\n",
    "from pymo.preprocessing import *\n",
    "\n",
    "import warnings\n",
    "warnings.filterwarnings(\"ignore\")"
   ]
  },
  {
   "cell_type": "code",
   "execution_count": 94,
   "metadata": {},
   "outputs": [
    {
     "ename": "NameError",
     "evalue": "name 'w' is not defined",
     "output_type": "error",
     "traceback": [
      "\u001b[0;31m---------------------------------------------------------------------------\u001b[0m",
      "\u001b[0;31mNameError\u001b[0m                                 Traceback (most recent call last)",
      "\u001b[0;32m<ipython-input-94-89c953f099c0>\u001b[0m in \u001b[0;36m<module>\u001b[0;34m\u001b[0m\n\u001b[0;32m----> 1\u001b[0;31m \u001b[0mf\u001b[0m\u001b[0;34m,\u001b[0m \u001b[0mt\u001b[0m\u001b[0;34m,\u001b[0m \u001b[0mSxx\u001b[0m \u001b[0;34m=\u001b[0m \u001b[0msignal\u001b[0m\u001b[0;34m.\u001b[0m\u001b[0mspectrogram\u001b[0m\u001b[0;34m(\u001b[0m\u001b[0mx\u001b[0m\u001b[0;34m,\u001b[0m \u001b[0mfs\u001b[0m\u001b[0;34m=\u001b[0m\u001b[0mfs\u001b[0m\u001b[0;34m,\u001b[0m \u001b[0mwindow\u001b[0m\u001b[0;34m=\u001b[0m\u001b[0mw\u001b[0m\u001b[0;34m,\u001b[0m \u001b[0mnoverlap\u001b[0m\u001b[0;34m=\u001b[0m\u001b[0mint\u001b[0m\u001b[0;34m(\u001b[0m\u001b[0moverlap\u001b[0m \u001b[0;34m*\u001b[0m \u001b[0mfs\u001b[0m\u001b[0;34m)\u001b[0m\u001b[0;34m)\u001b[0m\u001b[0;34m\u001b[0m\u001b[0;34m\u001b[0m\u001b[0m\n\u001b[0m",
      "\u001b[0;31mNameError\u001b[0m: name 'w' is not defined"
     ]
    }
   ],
   "source": [
    "f, t, Sxx = signal.spectrogram(x, fs=fs, window=w, noverlap=int(overlap * fs))"
   ]
  },
  {
   "cell_type": "code",
   "execution_count": 99,
   "metadata": {},
   "outputs": [],
   "source": [
    "class EmotionsMovementsDataset(torch.utils.data.Dataset):\n",
    "    def __init__(self, records_path, transform_pipeline=None, fit_transform=False, signal_len=120):\n",
    "        records_path = Path(records_path)\n",
    "        self.root_path = records_path.parent\n",
    "        self.signals_list = pd.read_csv(records_path)   \n",
    "        self.transform_pipeline = transform_pipeline\n",
    "        self.signal_len=signal_len\n",
    "        \n",
    "        if self.transform_pipeline is not None and fit_transform:\n",
    "            self.__fit_transform_pipeline()\n",
    "            \n",
    "        self.fs = 125\n",
    "        self.T_window = 1.0\n",
    "        self.T_overlap = 0.95\n",
    "        self.f_max = 10\n",
    "        self.window = signal.get_window('barthann', int(self.T_window * self.fs))\n",
    "        \n",
    "    def __fit_transform_pipeline(self):\n",
    "        data = [self.__getrawitem(i)[0] for i in range(len(self))]\n",
    "        self.transform_pipeline.fit(data)\n",
    "    \n",
    "    def __getrawitem(self, idx):\n",
    "        signal_metadata = self.signals_list.iloc[idx]\n",
    "        signal_id, signal_label = signal_metadata['id'], signal_metadata['label']\n",
    "        with open(Path(self.root_path, signal_id + '.pkl'), 'rb') as fd:\n",
    "            bvh_position = pickle.load(fd)\n",
    "        return bvh_position, signal_metadata['label']\n",
    "        \n",
    "    def __len__(self):\n",
    "        return self.signals_list.shape[0]\n",
    "    \n",
    "    def __getitem__(self, idx):\n",
    "        X, signal_label = self.__getrawitem(idx)\n",
    "\n",
    "        if self.transform_pipeline is not None:\n",
    "            X = self.transform_pipeline.transform([X])[0].astype(np.float32)\n",
    "            \n",
    "        X = X[-self.signal_len:, :] # get last signal_len timestemps\n",
    "        # pad if needed in the beginning\n",
    "        if X.shape[0] < self.signal_len:\n",
    "            X = np.pad(X, ((self.signal_len - X.shape[0], 0), (0, 0)), mode='edge')  \n",
    "            \n",
    "        f, t, Sxx = signal.spectrogram(X.T, fs=self.fs, window=self.window, noverlap=int(self.T_overlap * self.fs))\n",
    "#         Sxx = Sxx[:, f < self.f_max, :]\n",
    "#         Sxx = Sxx.reshape((-1, Sxx.shape[-1]))\n",
    "        \n",
    "        return f, t, Sxx#torch.from_numpy(Sxx), signal_label"
   ]
  },
  {
   "cell_type": "code",
   "execution_count": 100,
   "metadata": {},
   "outputs": [
    {
     "name": "stdout",
     "output_type": "stream",
     "text": [
      "Transform fitted!\n"
     ]
    }
   ],
   "source": [
    "transform_pipeline = Pipeline([\n",
    "    ('rcpn', RootCentricPositionNormalizer()),\n",
    "    ('delta', RootTransformer('abdolute_translation_deltas')),\n",
    "    ('const', ConstantsRemover()),\n",
    "#     ('selector', JointSelector(['Spine', 'RightFoot', 'LeftFoot', 'Head', 'RightForeArm', 'LeftForeArm'], include_root=True)),\n",
    "    ('np', Numpyfier()),\n",
    "    ('stdscale', ListStandardScaler())\n",
    "])\n",
    "\n",
    "train_ds = EmotionsMovementsDataset(\n",
    "    '/datasets/extra_space2/ostap/kinematic-dataset-of-actors-expressing-emotions-2.1.0/PyMO_output/train.csv',\n",
    "    transform_pipeline=transform_pipeline,\n",
    "    fit_transform=True,\n",
    "    signal_len=1200\n",
    ")\n",
    "print('Transform fitted!')\n",
    "val_ds = EmotionsMovementsDataset(\n",
    "    '/datasets/extra_space2/ostap/kinematic-dataset-of-actors-expressing-emotions-2.1.0/PyMO_output/val.csv',\n",
    "    transform_pipeline=train_ds.transform_pipeline,\n",
    "    fit_transform=False,\n",
    "    signal_len=1200\n",
    ")\n",
    "test_ds = EmotionsMovementsDataset(\n",
    "    '/datasets/extra_space2/ostap/kinematic-dataset-of-actors-expressing-emotions-2.1.0/PyMO_output/test.csv',\n",
    "    transform_pipeline=train_ds.transform_pipeline,\n",
    "    fit_transform=False,\n",
    "    signal_len=1200\n",
    ")\n",
    "\n",
    "train_dl = torch.utils.data.DataLoader(train_ds, batch_size=10, shuffle=True, num_workers=10)\n",
    "val_dl = torch.utils.data.DataLoader(val_ds, batch_size=10, shuffle=False, num_workers=10)\n",
    "test_dl = torch.utils.data.DataLoader(test_ds, batch_size=10, shuffle=False, num_workers=10)\n",
    "X_sample = train_ds[0]"
   ]
  },
  {
   "cell_type": "code",
   "execution_count": 106,
   "metadata": {},
   "outputs": [],
   "source": [
    "f, t, Sxx = X_sample\n",
    "f < 10"
   ]
  },
  {
   "cell_type": "code",
   "execution_count": 112,
   "metadata": {},
   "outputs": [
    {
     "data": {
      "text/plain": [
       "(216, 63, 154)"
      ]
     },
     "execution_count": 112,
     "metadata": {},
     "output_type": "execute_result"
    }
   ],
   "source": [
    "Sxx.shape"
   ]
  },
  {
   "cell_type": "code",
   "execution_count": 131,
   "metadata": {},
   "outputs": [
    {
     "data": {
      "text/plain": [
       "Text(0, 0.5, 'Frequency (Hz)')"
      ]
     },
     "execution_count": 131,
     "metadata": {},
     "output_type": "execute_result"
    },
    {
     "data": {
      "image/png": "[encoded data removed]",
      "text/plain": [
       "<Figure size 1080x504 with 1 Axes>"
      ]
     },
     "metadata": {
      "needs_background": "light"
     },
     "output_type": "display_data"
    }
   ],
   "source": [
    "fig, axes = plt.subplots(1, 1, figsize=(15, 7))\n",
    "axes.pcolormesh(t, f[f<=10], Sxx[3][f<=10], shading='gouraud')\n",
    "axes.set_xlabel('Time (s)')\n",
    "axes.set_ylabel('Frequency (Hz)')\n"
   ]
  },
  {
   "cell_type": "code",
   "execution_count": 78,
   "metadata": {},
   "outputs": [],
   "source": [
    "class EmotionConv(nn.Module):\n",
    "    def __init__(self, in_channels, output_size):\n",
    "        super().__init__()\n",
    "        self.output_size = output_size\n",
    "        self.conv_layers = nn.Sequential(OrderedDict([\n",
    "            ('conv1', nn.Conv1d(in_channels, 256, kernel_size=3, padding=1, dilation=5)),\n",
    "            ('relu1', nn.ReLU(inplace=True)),\n",
    "            ('bn1', nn.BatchNorm1d(256)),\n",
    "            \n",
    "            ('conv2', nn.Conv1d(256, 256, kernel_size=3, padding=1, dilation=5)),\n",
    "            ('relu2', nn.ReLU(inplace=True)),\n",
    "            ('bn2', nn.BatchNorm1d(256)),\n",
    "            ('pool2', nn.MaxPool1d(kernel_size=2, stride=2)),\n",
    "            \n",
    "            ('conv3', nn.Conv1d(256, 512, kernel_size=3, padding=1, dilation=3)),\n",
    "            ('relu3', nn.ReLU(inplace=True)),\n",
    "            ('bn3', nn.BatchNorm1d(512)),\n",
    "            \n",
    "            ('conv6', nn.Conv1d(512, 512, kernel_size=3, padding=1, dilation=3)),\n",
    "            ('relu6', nn.ReLU(inplace=True)),\n",
    "            ('bn6', nn.BatchNorm1d(512)),\n",
    "            ('pool6', nn.MaxPool1d(kernel_size=2, stride=2)),\n",
    "        ]))\n",
    "        \n",
    "        self.fc = nn.Sequential(OrderedDict([\n",
    "            ('fc1', nn.Linear(512, 256)),\n",
    "            ('relu1', nn.ReLU(inplace=True)),\n",
    "#             ('fc2', nn.Linear(256, 256)),\n",
    "#             ('relu2', nn.ReLU(inplace=True)),\n",
    "            ('fc3', nn.Linear(256, self.output_size)),\n",
    "        ]))\n",
    "        \n",
    "    def forward(self, x):\n",
    "        x = self.conv_layers(x)\n",
    "        x = x.mean(dim=2) # global average pooling\n",
    "        return self.fc(x)"
   ]
  },
  {
   "cell_type": "code",
   "execution_count": 80,
   "metadata": {},
   "outputs": [],
   "source": [
    "model = EmotionConv(in_channels=2160, output_size=7)"
   ]
  },
  {
   "cell_type": "code",
   "execution_count": 81,
   "metadata": {},
   "outputs": [
    {
     "name": "stdout",
     "output_type": "stream",
     "text": [
      "----------------------------------------------------------------\n",
      "        Layer (type)               Output Shape         Param #\n",
      "================================================================\n",
      "            Conv1d-1             [10, 256, 146]       1,659,136\n",
      "              ReLU-2             [10, 256, 146]               0\n",
      "       BatchNorm1d-3             [10, 256, 146]             512\n",
      "            Conv1d-4             [10, 256, 138]         196,864\n",
      "              ReLU-5             [10, 256, 138]               0\n",
      "       BatchNorm1d-6             [10, 256, 138]             512\n",
      "         MaxPool1d-7              [10, 256, 69]               0\n",
      "            Conv1d-8              [10, 512, 65]         393,728\n",
      "              ReLU-9              [10, 512, 65]               0\n",
      "      BatchNorm1d-10              [10, 512, 65]           1,024\n",
      "           Conv1d-11              [10, 512, 61]         786,944\n",
      "             ReLU-12              [10, 512, 61]               0\n",
      "      BatchNorm1d-13              [10, 512, 61]           1,024\n",
      "        MaxPool1d-14              [10, 512, 30]               0\n",
      "           Linear-15                  [10, 256]         131,328\n",
      "             ReLU-16                  [10, 256]               0\n",
      "           Linear-17                    [10, 7]           1,799\n",
      "================================================================\n",
      "Total params: 3,172,871\n",
      "Trainable params: 3,172,871\n",
      "Non-trainable params: 0\n",
      "----------------------------------------------------------------\n",
      "Input size (MB): 12.69\n",
      "Forward/backward pass size (MB): 33.97\n",
      "Params size (MB): 12.10\n",
      "Estimated Total Size (MB): 58.76\n",
      "----------------------------------------------------------------\n"
     ]
    }
   ],
   "source": [
    "summary(model, input_size=(2160, 154), batch_size=10, device='cpu')"
   ]
  },
  {
   "cell_type": "code",
   "execution_count": 82,
   "metadata": {},
   "outputs": [
    {
     "name": "stdout",
     "output_type": "stream",
     "text": [
      "torch.Size([10, 2160, 154])\n"
     ]
    },
    {
     "data": {
      "text/plain": [
       "torch.Size([10, 7])"
      ]
     },
     "execution_count": 82,
     "metadata": {},
     "output_type": "execute_result"
    }
   ],
   "source": [
    "x = next(iter(train_dl))\n",
    "print(x[0].shape)\n",
    "model(x[0]).shape"
   ]
  },
  {
   "cell_type": "markdown",
   "metadata": {},
   "source": [
    "### Train loop"
   ]
  },
  {
   "cell_type": "code",
   "execution_count": 83,
   "metadata": {},
   "outputs": [],
   "source": [
    "device = torch.device('cuda:0')\n",
    "model.to(device)\n",
    "criterion = nn.CrossEntropyLoss()\n",
    "optimizer = torch.optim.Adam(model.parameters(), lr=0.01)\n",
    "scheduler = torch.optim.lr_scheduler.StepLR(optimizer, step_size=10, gamma=0.2)"
   ]
  },
  {
   "cell_type": "code",
   "execution_count": 84,
   "metadata": {},
   "outputs": [],
   "source": [
    "@torch.no_grad()\n",
    "def test(model, test_dl, criterion, device):\n",
    "    model.eval()\n",
    "    batch_loss = []\n",
    "    samples, correct = 0, 0\n",
    "    for X_batch, y_batch in tqdm(test_dl):\n",
    "        batch_size = X_batch.shape[0]\n",
    "        X_batch, y_batch = X_batch.to(device), y_batch.to(device)\n",
    "\n",
    "        y_pred = model(X_batch)\n",
    "        test_loss = criterion(y_pred, y_batch)\n",
    "        batch_loss.append(test_loss.item())\n",
    "\n",
    "        # evaluate accuracy\n",
    "        batch_correct = (torch.argmax(y_pred, dim=1) == y_batch).sum().item()\n",
    "        samples += batch_size\n",
    "        correct += batch_correct\n",
    "\n",
    "    \n",
    "    return np.mean(batch_loss), correct / samples"
   ]
  },
  {
   "cell_type": "code",
   "execution_count": 85,
   "metadata": {},
   "outputs": [],
   "source": [
    "def train(model, train_dl, val_dl, epochs, criterion, optimizer, scheduler, path_to_model):\n",
    "\n",
    "    train_loss, val_loss = [], []\n",
    "    highest_val_accuracy = 0\n",
    "    \n",
    "    for epoch in range(epochs):\n",
    "        model.train()\n",
    "\n",
    "        batch_train_loss = []\n",
    "\n",
    "        for X_batch, y_batch in tqdm(train_dl):\n",
    "            # perform single training step\n",
    "            model.zero_grad()\n",
    "            X_batch, y_batch = X_batch.to(device), y_batch.to(device)\n",
    "            y_pred = model(X_batch)\n",
    "            loss = criterion(y_pred, y_batch)\n",
    "            batch_train_loss.append(loss.item())\n",
    "            loss.backward()\n",
    "#             torch.nn.utils.clip_grad_norm_(model.parameters(), 5.0)\n",
    "            optimizer.step()\n",
    "        \n",
    "        epoch_train_loss = np.mean(batch_train_loss)\n",
    "        train_loss.append(epoch_train_loss)\n",
    "        epoch_val_loss, val_accuracy = test(model, val_dl, criterion, device)\n",
    "        val_loss.append(epoch_val_loss)\n",
    "\n",
    "        if val_accuracy > highest_val_accuracy:\n",
    "            highest_val_accuracy = val_accuracy\n",
    "            torch.save(model.state_dict(), path_to_model)\n",
    "            \n",
    "        scheduler.step()\n",
    "\n",
    "        print(f\"Epoch {epoch + 1}, train loss: {epoch_train_loss}, val_loss: {epoch_val_loss},  val accu: {val_accuracy}\")\n",
    "\n",
    "    model.load_state_dict(torch.load(path_to_model))\n",
    "\n",
    "    return train_loss, val_loss"
   ]
  },
  {
   "cell_type": "code",
   "execution_count": 87,
   "metadata": {
    "scrolled": true
   },
   "outputs": [
    {
     "name": "stderr",
     "output_type": "stream",
     "text": [
      "100%|██████████| 112/112 [00:24<00:00,  4.50it/s]\n",
      "100%|██████████| 15/15 [00:04<00:00,  3.04it/s]\n",
      "  0%|          | 0/112 [00:00<?, ?it/s]"
     ]
    },
    {
     "name": "stdout",
     "output_type": "stream",
     "text": [
      "Epoch 1, train loss: 2.1136982728328024, val_loss: 1.5915188709894816,  val accu: 0.375886524822695\n"
     ]
    },
    {
     "name": "stderr",
     "output_type": "stream",
     "text": [
      "100%|██████████| 112/112 [00:24<00:00,  4.52it/s]\n",
      "100%|██████████| 15/15 [00:04<00:00,  3.05it/s]\n",
      "  0%|          | 0/112 [00:00<?, ?it/s]"
     ]
    },
    {
     "name": "stdout",
     "output_type": "stream",
     "text": [
      "Epoch 2, train loss: 1.7080886459776334, val_loss: 1.69440655708313,  val accu: 0.3404255319148936\n"
     ]
    },
    {
     "name": "stderr",
     "output_type": "stream",
     "text": [
      "100%|██████████| 112/112 [00:24<00:00,  4.61it/s]\n",
      "100%|██████████| 15/15 [00:04<00:00,  3.05it/s]\n",
      "  0%|          | 0/112 [00:00<?, ?it/s]"
     ]
    },
    {
     "name": "stdout",
     "output_type": "stream",
     "text": [
      "Epoch 3, train loss: 1.5742207930556364, val_loss: 1.4977110544840495,  val accu: 0.48226950354609927\n"
     ]
    },
    {
     "name": "stderr",
     "output_type": "stream",
     "text": [
      "100%|██████████| 112/112 [00:23<00:00,  4.72it/s]\n",
      "100%|██████████| 15/15 [00:05<00:00,  2.71it/s]\n",
      "  0%|          | 0/112 [00:00<?, ?it/s]"
     ]
    },
    {
     "name": "stdout",
     "output_type": "stream",
     "text": [
      "Epoch 4, train loss: 1.535909489329372, val_loss: 1.454695733388265,  val accu: 0.4326241134751773\n"
     ]
    },
    {
     "name": "stderr",
     "output_type": "stream",
     "text": [
      "100%|██████████| 112/112 [00:24<00:00,  4.57it/s]\n",
      "100%|██████████| 15/15 [00:04<00:00,  3.02it/s]\n",
      "  0%|          | 0/112 [00:00<?, ?it/s]"
     ]
    },
    {
     "name": "stdout",
     "output_type": "stream",
     "text": [
      "Epoch 5, train loss: 1.4055852315255575, val_loss: 1.5320536931355795,  val accu: 0.4326241134751773\n"
     ]
    },
    {
     "name": "stderr",
     "output_type": "stream",
     "text": [
      "100%|██████████| 112/112 [00:24<00:00,  4.64it/s]\n",
      "100%|██████████| 15/15 [00:04<00:00,  3.16it/s]\n",
      "  0%|          | 0/112 [00:00<?, ?it/s]"
     ]
    },
    {
     "name": "stdout",
     "output_type": "stream",
     "text": [
      "Epoch 6, train loss: 1.4090799311442035, val_loss: 1.5003953099250793,  val accu: 0.46808510638297873\n"
     ]
    },
    {
     "name": "stderr",
     "output_type": "stream",
     "text": [
      "100%|██████████| 112/112 [00:25<00:00,  4.47it/s]\n",
      "100%|██████████| 15/15 [00:04<00:00,  3.01it/s]\n",
      "  0%|          | 0/112 [00:00<?, ?it/s]"
     ]
    },
    {
     "name": "stdout",
     "output_type": "stream",
     "text": [
      "Epoch 7, train loss: 1.3271689862012863, val_loss: 1.3887131492296854,  val accu: 0.46099290780141844\n"
     ]
    },
    {
     "name": "stderr",
     "output_type": "stream",
     "text": [
      "100%|██████████| 112/112 [00:24<00:00,  4.63it/s]\n",
      "100%|██████████| 15/15 [00:04<00:00,  3.06it/s]\n",
      "  0%|          | 0/112 [00:00<?, ?it/s]"
     ]
    },
    {
     "name": "stdout",
     "output_type": "stream",
     "text": [
      "Epoch 8, train loss: 1.2356792321162564, val_loss: 1.531962474187215,  val accu: 0.46808510638297873\n"
     ]
    },
    {
     "name": "stderr",
     "output_type": "stream",
     "text": [
      "100%|██████████| 112/112 [00:24<00:00,  4.60it/s]\n",
      "100%|██████████| 15/15 [00:04<00:00,  3.11it/s]\n",
      "  0%|          | 0/112 [00:00<?, ?it/s]"
     ]
    },
    {
     "name": "stdout",
     "output_type": "stream",
     "text": [
      "Epoch 9, train loss: 1.221313993579575, val_loss: 1.4469947536786398,  val accu: 0.46808510638297873\n"
     ]
    },
    {
     "name": "stderr",
     "output_type": "stream",
     "text": [
      "100%|██████████| 112/112 [00:24<00:00,  4.60it/s]\n",
      "100%|██████████| 15/15 [00:04<00:00,  3.04it/s]\n",
      "  0%|          | 0/112 [00:00<?, ?it/s]"
     ]
    },
    {
     "name": "stdout",
     "output_type": "stream",
     "text": [
      "Epoch 10, train loss: 1.2188599719000714, val_loss: 1.3790989915529888,  val accu: 0.5319148936170213\n"
     ]
    },
    {
     "name": "stderr",
     "output_type": "stream",
     "text": [
      "100%|██████████| 112/112 [00:24<00:00,  4.66it/s]\n",
      "100%|██████████| 15/15 [00:04<00:00,  3.17it/s]\n",
      "  0%|          | 0/112 [00:00<?, ?it/s]"
     ]
    },
    {
     "name": "stdout",
     "output_type": "stream",
     "text": [
      "Epoch 11, train loss: 1.0121973090405976, val_loss: 1.248673415184021,  val accu: 0.5602836879432624\n"
     ]
    },
    {
     "name": "stderr",
     "output_type": "stream",
     "text": [
      "100%|██████████| 112/112 [00:25<00:00,  4.44it/s]\n",
      "100%|██████████| 15/15 [00:04<00:00,  3.02it/s]\n",
      "  0%|          | 0/112 [00:00<?, ?it/s]"
     ]
    },
    {
     "name": "stdout",
     "output_type": "stream",
     "text": [
      "Epoch 12, train loss: 0.8598395559404578, val_loss: 1.3104925950368245,  val accu: 0.5957446808510638\n"
     ]
    },
    {
     "name": "stderr",
     "output_type": "stream",
     "text": [
      "100%|██████████| 112/112 [00:24<00:00,  4.59it/s]\n",
      "100%|██████████| 15/15 [00:04<00:00,  3.11it/s]\n",
      "  0%|          | 0/112 [00:00<?, ?it/s]"
     ]
    },
    {
     "name": "stdout",
     "output_type": "stream",
     "text": [
      "Epoch 13, train loss: 0.7691595406670656, val_loss: 1.301093578338623,  val accu: 0.6028368794326241\n"
     ]
    },
    {
     "name": "stderr",
     "output_type": "stream",
     "text": [
      "100%|██████████| 112/112 [00:25<00:00,  4.47it/s]\n",
      "100%|██████████| 15/15 [00:04<00:00,  3.07it/s]\n",
      "  0%|          | 0/112 [00:00<?, ?it/s]"
     ]
    },
    {
     "name": "stdout",
     "output_type": "stream",
     "text": [
      "Epoch 14, train loss: 0.7333351889226053, val_loss: 1.527377764383952,  val accu: 0.524822695035461\n"
     ]
    },
    {
     "name": "stderr",
     "output_type": "stream",
     "text": [
      "100%|██████████| 112/112 [00:24<00:00,  4.65it/s]\n",
      "100%|██████████| 15/15 [00:04<00:00,  3.07it/s]\n",
      "  0%|          | 0/112 [00:00<?, ?it/s]"
     ]
    },
    {
     "name": "stdout",
     "output_type": "stream",
     "text": [
      "Epoch 15, train loss: 0.7053904730294432, val_loss: 1.3481363256772358,  val accu: 0.6170212765957447\n"
     ]
    },
    {
     "name": "stderr",
     "output_type": "stream",
     "text": [
      "100%|██████████| 112/112 [00:23<00:00,  4.73it/s]\n",
      "100%|██████████| 15/15 [00:05<00:00,  2.74it/s]\n",
      "  0%|          | 0/112 [00:00<?, ?it/s]"
     ]
    },
    {
     "name": "stdout",
     "output_type": "stream",
     "text": [
      "Epoch 16, train loss: 0.6698699452515159, val_loss: 1.39896316130956,  val accu: 0.5673758865248227\n"
     ]
    },
    {
     "name": "stderr",
     "output_type": "stream",
     "text": [
      "100%|██████████| 112/112 [00:24<00:00,  4.62it/s]\n",
      "100%|██████████| 15/15 [00:04<00:00,  3.05it/s]\n",
      "  0%|          | 0/112 [00:00<?, ?it/s]"
     ]
    },
    {
     "name": "stdout",
     "output_type": "stream",
     "text": [
      "Epoch 17, train loss: 0.6215647192937988, val_loss: 1.4779838522275288,  val accu: 0.5319148936170213\n"
     ]
    },
    {
     "name": "stderr",
     "output_type": "stream",
     "text": [
      "100%|██████████| 112/112 [00:24<00:00,  4.64it/s]\n",
      "100%|██████████| 15/15 [00:04<00:00,  3.14it/s]\n",
      "  0%|          | 0/112 [00:00<?, ?it/s]"
     ]
    },
    {
     "name": "stdout",
     "output_type": "stream",
     "text": [
      "Epoch 18, train loss: 0.6098489273073417, val_loss: 1.6134055356184642,  val accu: 0.5319148936170213\n"
     ]
    },
    {
     "name": "stderr",
     "output_type": "stream",
     "text": [
      "100%|██████████| 112/112 [00:25<00:00,  4.46it/s]\n",
      "100%|██████████| 15/15 [00:04<00:00,  3.01it/s]\n",
      "  0%|          | 0/112 [00:00<?, ?it/s]"
     ]
    },
    {
     "name": "stdout",
     "output_type": "stream",
     "text": [
      "Epoch 19, train loss: 0.5871360003282982, val_loss: 1.982874196767807,  val accu: 0.5177304964539007\n"
     ]
    },
    {
     "name": "stderr",
     "output_type": "stream",
     "text": [
      "100%|██████████| 112/112 [00:24<00:00,  4.64it/s]\n",
      "100%|██████████| 15/15 [00:04<00:00,  3.08it/s]\n",
      "  0%|          | 0/112 [00:00<?, ?it/s]"
     ]
    },
    {
     "name": "stdout",
     "output_type": "stream",
     "text": [
      "Epoch 20, train loss: 0.545765795778217, val_loss: 1.4248953680197398,  val accu: 0.574468085106383\n"
     ]
    },
    {
     "name": "stderr",
     "output_type": "stream",
     "text": [
      "100%|██████████| 112/112 [00:24<00:00,  4.51it/s]\n",
      "100%|██████████| 15/15 [00:04<00:00,  3.01it/s]\n",
      "  0%|          | 0/112 [00:00<?, ?it/s]"
     ]
    },
    {
     "name": "stdout",
     "output_type": "stream",
     "text": [
      "Epoch 21, train loss: 0.47836449233415934, val_loss: 1.7089774211247761,  val accu: 0.5177304964539007\n"
     ]
    },
    {
     "name": "stderr",
     "output_type": "stream",
     "text": [
      "100%|██████████| 112/112 [00:24<00:00,  4.61it/s]\n",
      "100%|██████████| 15/15 [00:04<00:00,  3.07it/s]\n",
      "  0%|          | 0/112 [00:00<?, ?it/s]"
     ]
    },
    {
     "name": "stdout",
     "output_type": "stream",
     "text": [
      "Epoch 22, train loss: 0.434105595706829, val_loss: 1.4383626759052277,  val accu: 0.6028368794326241\n"
     ]
    },
    {
     "name": "stderr",
     "output_type": "stream",
     "text": [
      "100%|██████████| 112/112 [00:23<00:00,  4.70it/s]\n",
      "100%|██████████| 15/15 [00:04<00:00,  3.19it/s]\n",
      "  0%|          | 0/112 [00:00<?, ?it/s]"
     ]
    },
    {
     "name": "stdout",
     "output_type": "stream",
     "text": [
      "Epoch 23, train loss: 0.4338888021052948, val_loss: 1.7028699934482574,  val accu: 0.5390070921985816\n"
     ]
    },
    {
     "name": "stderr",
     "output_type": "stream",
     "text": [
      "100%|██████████| 112/112 [00:24<00:00,  4.49it/s]\n",
      "100%|██████████| 15/15 [00:04<00:00,  3.07it/s]\n",
      "  0%|          | 0/112 [00:00<?, ?it/s]"
     ]
    },
    {
     "name": "stdout",
     "output_type": "stream",
     "text": [
      "Epoch 24, train loss: 0.3791318309626409, val_loss: 1.509126901626587,  val accu: 0.5390070921985816\n"
     ]
    },
    {
     "name": "stderr",
     "output_type": "stream",
     "text": [
      "100%|██████████| 112/112 [00:24<00:00,  4.60it/s]\n",
      "100%|██████████| 15/15 [00:04<00:00,  3.08it/s]\n",
      "  0%|          | 0/112 [00:00<?, ?it/s]"
     ]
    },
    {
     "name": "stdout",
     "output_type": "stream",
     "text": [
      "Epoch 25, train loss: 0.4152104007745428, val_loss: 1.7786851485570272,  val accu: 0.5319148936170213\n"
     ]
    },
    {
     "name": "stderr",
     "output_type": "stream",
     "text": [
      "100%|██████████| 112/112 [00:25<00:00,  4.48it/s]\n",
      "100%|██████████| 15/15 [00:05<00:00,  2.90it/s]\n",
      "  0%|          | 0/112 [00:00<?, ?it/s]"
     ]
    },
    {
     "name": "stdout",
     "output_type": "stream",
     "text": [
      "Epoch 26, train loss: 0.3743669248319098, val_loss: 1.4656736195087432,  val accu: 0.5673758865248227\n"
     ]
    },
    {
     "name": "stderr",
     "output_type": "stream",
     "text": [
      "100%|██████████| 112/112 [00:24<00:00,  4.56it/s]\n",
      "100%|██████████| 15/15 [00:04<00:00,  3.05it/s]\n",
      "  0%|          | 0/112 [00:00<?, ?it/s]"
     ]
    },
    {
     "name": "stdout",
     "output_type": "stream",
     "text": [
      "Epoch 27, train loss: 0.3621549894700625, val_loss: 1.6249109903971355,  val accu: 0.5602836879432624\n"
     ]
    },
    {
     "name": "stderr",
     "output_type": "stream",
     "text": [
      "100%|██████████| 112/112 [00:24<00:00,  4.57it/s]\n",
      "100%|██████████| 15/15 [00:04<00:00,  3.08it/s]\n",
      "  0%|          | 0/112 [00:00<?, ?it/s]"
     ]
    },
    {
     "name": "stdout",
     "output_type": "stream",
     "text": [
      "Epoch 28, train loss: 0.3710381378685789, val_loss: 2.0048442482948303,  val accu: 0.5319148936170213\n"
     ]
    },
    {
     "name": "stderr",
     "output_type": "stream",
     "text": [
      "100%|██████████| 112/112 [00:24<00:00,  4.63it/s]\n",
      "100%|██████████| 15/15 [00:04<00:00,  3.08it/s]\n",
      "  0%|          | 0/112 [00:00<?, ?it/s]"
     ]
    },
    {
     "name": "stdout",
     "output_type": "stream",
     "text": [
      "Epoch 29, train loss: 0.35848999385988073, val_loss: 1.7788189152876537,  val accu: 0.5319148936170213\n"
     ]
    },
    {
     "name": "stderr",
     "output_type": "stream",
     "text": [
      "100%|██████████| 112/112 [00:24<00:00,  4.59it/s]\n",
      "100%|██████████| 15/15 [00:04<00:00,  3.17it/s]\n"
     ]
    },
    {
     "name": "stdout",
     "output_type": "stream",
     "text": [
      "Epoch 30, train loss: 0.3145135789444404, val_loss: 2.030612858136495,  val accu: 0.5177304964539007\n"
     ]
    },
    {
     "data": {
      "text/plain": [
       "([2.1136982728328024,\n",
       "  1.7080886459776334,\n",
       "  1.5742207930556364,\n",
       "  1.535909489329372,\n",
       "  1.4055852315255575,\n",
       "  1.4090799311442035,\n",
       "  1.3271689862012863,\n",
       "  1.2356792321162564,\n",
       "  1.221313993579575,\n",
       "  1.2188599719000714,\n",
       "  1.0121973090405976,\n",
       "  0.8598395559404578,\n",
       "  0.7691595406670656,\n",
       "  0.7333351889226053,\n",
       "  0.7053904730294432,\n",
       "  0.6698699452515159,\n",
       "  0.6215647192937988,\n",
       "  0.6098489273073417,\n",
       "  0.5871360003282982,\n",
       "  0.545765795778217,\n",
       "  0.47836449233415934,\n",
       "  0.434105595706829,\n",
       "  0.4338888021052948,\n",
       "  0.3791318309626409,\n",
       "  0.4152104007745428,\n",
       "  0.3743669248319098,\n",
       "  0.3621549894700625,\n",
       "  0.3710381378685789,\n",
       "  0.35848999385988073,\n",
       "  0.3145135789444404],\n",
       " [1.5915188709894816,\n",
       "  1.69440655708313,\n",
       "  1.4977110544840495,\n",
       "  1.454695733388265,\n",
       "  1.5320536931355795,\n",
       "  1.5003953099250793,\n",
       "  1.3887131492296854,\n",
       "  1.531962474187215,\n",
       "  1.4469947536786398,\n",
       "  1.3790989915529888,\n",
       "  1.248673415184021,\n",
       "  1.3104925950368245,\n",
       "  1.301093578338623,\n",
       "  1.527377764383952,\n",
       "  1.3481363256772358,\n",
       "  1.39896316130956,\n",
       "  1.4779838522275288,\n",
       "  1.6134055356184642,\n",
       "  1.982874196767807,\n",
       "  1.4248953680197398,\n",
       "  1.7089774211247761,\n",
       "  1.4383626759052277,\n",
       "  1.7028699934482574,\n",
       "  1.509126901626587,\n",
       "  1.7786851485570272,\n",
       "  1.4656736195087432,\n",
       "  1.6249109903971355,\n",
       "  2.0048442482948303,\n",
       "  1.7788189152876537,\n",
       "  2.030612858136495])"
      ]
     },
     "execution_count": 87,
     "metadata": {},
     "output_type": "execute_result"
    }
   ],
   "source": [
    "train(\n",
    "    model,\n",
    "    train_dl, \n",
    "    val_dl,\n",
    "    epochs=30,\n",
    "    criterion=criterion,\n",
    "    optimizer=optimizer,\n",
    "    scheduler=scheduler,\n",
    "    path_to_model='model_conv_freq.pth'\n",
    ")"
   ]
  },
  {
   "cell_type": "code",
   "execution_count": 88,
   "metadata": {},
   "outputs": [
    {
     "name": "stderr",
     "output_type": "stream",
     "text": [
      "100%|██████████| 15/15 [00:05<00:00,  2.71it/s]\n"
     ]
    },
    {
     "data": {
      "text/plain": [
       "(1.4361740549405415, 0.5602836879432624)"
      ]
     },
     "execution_count": 88,
     "metadata": {},
     "output_type": "execute_result"
    }
   ],
   "source": [
    "state_dict = torch.load('model_conv_freq.pth')\n",
    "model.load_state_dict(state_dict)\n",
    "test(model, test_dl, criterion, device)"
   ]
  },
  {
   "cell_type": "code",
   "execution_count": 89,
   "metadata": {},
   "outputs": [
    {
     "name": "stderr",
     "output_type": "stream",
     "text": [
      "100%|██████████| 15/15 [00:04<00:00,  3.01it/s]\n"
     ]
    }
   ],
   "source": [
    "y_true_all, y_pred_all = [], []\n",
    "for X, y_true in tqdm(test_dl):\n",
    "    y_pred = model(X.to(device))\n",
    "    y_pred = y_pred.argmax(dim=1)\n",
    "    y_true_all.extend(y_true.tolist())\n",
    "    y_pred_all.extend(y_pred.tolist())    "
   ]
  },
  {
   "cell_type": "code",
   "execution_count": 90,
   "metadata": {},
   "outputs": [],
   "source": [
    "from sklearn.metrics import confusion_matrix\n",
    "from seaborn import heatmap, barplot, histplot\n",
    "import matplotlib.pyplot as plt"
   ]
  },
  {
   "cell_type": "code",
   "execution_count": 91,
   "metadata": {},
   "outputs": [
    {
     "data": {
      "text/plain": [
       "dict_values(['A', 'D', 'F', 'H', 'N', 'SA', 'SU'])"
      ]
     },
     "execution_count": 91,
     "metadata": {},
     "output_type": "execute_result"
    }
   ],
   "source": [
    "labels_to_idx = {'A': 0, 'D': 1, 'F': 2, 'H': 3, 'N': 4, 'SA': 5, 'SU': 6}\n",
    "idx_to_label = {v:k for k,v in labels_to_idx.items()}\n",
    "idx_to_label.values()"
   ]
  },
  {
   "cell_type": "code",
   "execution_count": 92,
   "metadata": {},
   "outputs": [
    {
     "data": {
      "image/png": "[encoded data removed]",
      "text/plain": [
       "<Figure size 576x504 with 2 Axes>"
      ]
     },
     "metadata": {
      "needs_background": "light"
     },
     "output_type": "display_data"
    }
   ],
   "source": [
    "cm = confusion_matrix(y_true_all, y_pred_all)\n",
    "\n",
    "plt.figure(figsize=(8, 7))\n",
    "heatmap(cm, annot=True, xticklabels=idx_to_label.values(), yticklabels=idx_to_label.values())\n",
    "plt.xlabel('Pred')\n",
    "plt.ylabel('True')\n",
    "plt.title('Confusion matrix');"
   ]
  },
  {
   "cell_type": "code",
   "execution_count": 25,
   "metadata": {},
   "outputs": [
    {
     "data": {
      "text/plain": [
       "<AxesSubplot:ylabel='Count'>"
      ]
     },
     "execution_count": 25,
     "metadata": {},
     "output_type": "execute_result"
    },
    {
     "data": {
      "image/png": "[encoded data removed]",
      "text/plain": [
       "<Figure size 432x288 with 1 Axes>"
      ]
     },
     "metadata": {
      "needs_background": "light"
     },
     "output_type": "display_data"
    }
   ],
   "source": [
    "histplot(y_true_all, bins=7)"
   ]
  },
  {
   "cell_type": "code",
   "execution_count": null,
   "metadata": {},
   "outputs": [],
   "source": []
  }
 ],
 "metadata": {
  "kernelspec": {
   "display_name": "Python 3",
   "language": "python",
   "name": "python3"
  },
  "language_info": {
   "codemirror_mode": {
    "name": "ipython",
    "version": 3
   },
   "file_extension": ".py",
   "mimetype": "text/x-python",
   "name": "python",
   "nbconvert_exporter": "python",
   "pygments_lexer": "ipython3",
   "version": "3.7.5"
  }
 },
 "nbformat": 4,
 "nbformat_minor": 4
}
