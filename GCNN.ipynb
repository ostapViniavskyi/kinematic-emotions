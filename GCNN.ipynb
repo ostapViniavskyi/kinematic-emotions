{
 "cells": [
  {
   "cell_type": "code",
   "execution_count": 2,
   "metadata": {},
   "outputs": [],
   "source": [
    "import torch\n",
    "import numpy as np\n",
    "import pandas as pd\n",
    "import glob\n",
    "import os\n",
    "import pickle\n",
    "\n",
    "from tqdm import tqdm\n",
    "from pathlib import Path\n",
    "from sklearn.pipeline import Pipeline\n",
    "from torchsummary import summary\n",
    "\n",
    "import torch.nn as nn\n",
    "import torch.nn.functional as F\n",
    "from collections import OrderedDict\n",
    "\n",
    "from pymo.preprocessing import *\n",
    "\n",
    "import warnings\n",
    "warnings.filterwarnings(\"ignore\")"
   ]
  },
  {
   "cell_type": "code",
   "execution_count": 93,
   "metadata": {},
   "outputs": [],
   "source": [
    "class EmotionsMovementsDataset(torch.utils.data.Dataset):\n",
    "    def __init__(self, records_path, transform_pipeline=None, fit_transform=False, signal_len=120):\n",
    "        records_path = Path(records_path)\n",
    "        self.root_path = records_path.parent\n",
    "        self.signals_list = pd.read_csv(records_path)   \n",
    "        self.transform_pipeline = transform_pipeline\n",
    "        self.signal_len=signal_len\n",
    "        \n",
    "        if self.transform_pipeline is not None and fit_transform:\n",
    "            self.__fit_transform_pipeline()\n",
    "        \n",
    "    def __fit_transform_pipeline(self):\n",
    "        data = [self.__getrawitem(i)[0] for i in range(len(self))]\n",
    "        self.transform_pipeline.fit(data)\n",
    "    \n",
    "    def __getrawitem(self, idx):\n",
    "        signal_metadata = self.signals_list.iloc[idx]\n",
    "        signal_id, signal_label = signal_metadata['id'], signal_metadata['label']\n",
    "        with open(Path(self.root_path, signal_id + '.pkl'), 'rb') as fd:\n",
    "            bvh_position = pickle.load(fd)\n",
    "        return bvh_position, signal_metadata['label']\n",
    "        \n",
    "    def __len__(self):\n",
    "        return self.signals_list.shape[0]\n",
    "    \n",
    "    def __getitem__(self, idx):\n",
    "        X, signal_label = self.__getrawitem(idx)\n",
    "\n",
    "        if self.transform_pipeline is not None:\n",
    "            X = self.transform_pipeline.transform([X])[0].astype(np.float32)\n",
    "            \n",
    "        X = X[-self.signal_len:, :] # get last signal_len timestemps\n",
    "        # pad if needed in the beginning\n",
    "        if X.shape[0] < self.signal_len:\n",
    "            X = np.pad(X, ((self.signal_len - X.shape[0], 0), (0, 0)), mode='edge')        \n",
    "        \n",
    "        return torch.from_numpy(X), signal_label"
   ]
  },
  {
   "cell_type": "code",
   "execution_count": 186,
   "metadata": {},
   "outputs": [
    {
     "name": "stdout",
     "output_type": "stream",
     "text": [
      "Transform fitted!\n"
     ]
    }
   ],
   "source": [
    "transform_pipeline = Pipeline([\n",
    "    ('rcpn', RootCentricPositionNormalizer()),\n",
    "    ('delta', RootTransformer('abdolute_translation_deltas')),\n",
    "    ('const', ConstantsRemover()),\n",
    "#     ('selector', JointSelector(['Spine', 'RightFoot', 'LeftFoot', 'Head', 'RightForeArm', 'LeftForeArm'], include_root=True)),\n",
    "    ('np', Numpyfier()),\n",
    "    ('down', DownSampler(10)),\n",
    "    ('stdscale', ListStandardScaler())\n",
    "])\n",
    "\n",
    "train_ds = EmotionsMovementsDataset(\n",
    "    '/datasets/extra_space2/ostap/kinematic-dataset-of-actors-expressing-emotions-2.1.0/PyMO_output/train.csv',\n",
    "    transform_pipeline=transform_pipeline,\n",
    "    fit_transform=True,\n",
    "    signal_len=120\n",
    ")\n",
    "print('Transform fitted!')\n",
    "val_ds = EmotionsMovementsDataset(\n",
    "    '/datasets/extra_space2/ostap/kinematic-dataset-of-actors-expressing-emotions-2.1.0/PyMO_output/val.csv',\n",
    "    transform_pipeline=train_ds.transform_pipeline,\n",
    "    fit_transform=False,\n",
    "    signal_len=120\n",
    ")\n",
    "test_ds = EmotionsMovementsDataset(\n",
    "    '/datasets/extra_space2/ostap/kinematic-dataset-of-actors-expressing-emotions-2.1.0/PyMO_output/test.csv',\n",
    "    transform_pipeline=train_ds.transform_pipeline,\n",
    "    fit_transform=False,\n",
    "    signal_len=120\n",
    ")\n",
    "\n",
    "train_dl = torch.utils.data.DataLoader(train_ds, batch_size=10, shuffle=True, num_workers=10)\n",
    "val_dl = torch.utils.data.DataLoader(val_ds, batch_size=10, shuffle=False, num_workers=10)\n",
    "test_dl = torch.utils.data.DataLoader(test_ds, batch_size=10, shuffle=False, num_workers=10)\n",
    "X_sample = train_ds[0]"
   ]
  },
  {
   "cell_type": "markdown",
   "metadata": {},
   "source": [
    "### Get adjacency matrix"
   ]
  },
  {
   "cell_type": "code",
   "execution_count": 187,
   "metadata": {},
   "outputs": [
    {
     "data": {
      "text/plain": [
       "[<pymo.data.MocapData at 0x7f202c72cdd0>]"
      ]
     },
     "execution_count": 187,
     "metadata": {},
     "output_type": "execute_result"
    }
   ],
   "source": [
    "mocap_data, _ = train_ds._EmotionsMovementsDataset__getrawitem(0)\n",
    "mocap_data = [mocap_data]\n",
    "for _, transform_step in train_ds.transform_pipeline.steps[:-3]:\n",
    "    mocap_data = transform_step.transform(mocap_data)\n",
    "mocap_data"
   ]
  },
  {
   "cell_type": "code",
   "execution_count": 188,
   "metadata": {},
   "outputs": [],
   "source": [
    "def get_adjacency_matrix(mocap_data, num_channels=3):\n",
    "    nodes_num = mocap_data.values.shape[1] // num_channels    \n",
    "    # assign nodes numbers\n",
    "    used_nodes = {}\n",
    "    for i, name in enumerate(mocap_data.values.columns):\n",
    "        node_name = '_'.join(name.split('_')[:-1])\n",
    "        if node_name not in used_nodes:\n",
    "            used_nodes[node_name] = i // num_channels\n",
    "        else:\n",
    "            assert used_nodes[node_name] == i // num_channels\n",
    "    \n",
    "    # construct adj. matrix\n",
    "    A = np.zeros((nodes_num, nodes_num))\n",
    "    for node_name, props in mocap_data.skeleton.items():\n",
    "        parent = props['parent']\n",
    "        if parent is None:\n",
    "            continue\n",
    "        node_idx, parent_idx = used_nodes[node_name], used_nodes[parent]\n",
    "        A[node_idx, parent_idx] = 1\n",
    "        A[parent_idx, node_idx] = 1\n",
    "        \n",
    "    return A\n",
    "\n",
    "A = get_adjacency_matrix(mocap_data[0], num_channels=3)"
   ]
  },
  {
   "cell_type": "code",
   "execution_count": 218,
   "metadata": {},
   "outputs": [],
   "source": [
    "A_fourway = ((A + A@A + A@A@A + A@A@A@A) > 0).astype(np.int64) - np.eye(A.shape[0])"
   ]
  },
  {
   "cell_type": "code",
   "execution_count": null,
   "metadata": {},
   "outputs": [],
   "source": []
  },
  {
   "cell_type": "markdown",
   "metadata": {},
   "source": [
    "### Define model"
   ]
  },
  {
   "cell_type": "markdown",
   "metadata": {},
   "source": [
    "### GCNN"
   ]
  },
  {
   "cell_type": "code",
   "execution_count": 219,
   "metadata": {},
   "outputs": [],
   "source": [
    "class GraphConvLayer(nn.Module):\n",
    "    def __init__(self, A, in_channels, out_channels, add_identity=True, aggregation='sum'):\n",
    "        super().__init__()\n",
    "        A = torch.FloatTensor(A)\n",
    "        if add_identity:\n",
    "            A = A + torch.eye(A.size(0))\n",
    "            \n",
    "        if aggregation == 'sum':\n",
    "            pass\n",
    "        elif aggregation == 'mean':\n",
    "            d = 1 / torch.sum(A, dim=1)\n",
    "            A = A * d.unsqueeze(-1)\n",
    "        elif aggregation == 'spectral':\n",
    "            d = 1 / torch.sqrt(torch.sum(A, dim=1))\n",
    "            A = A * d * d.unsqueeze(-1)\n",
    "        else:\n",
    "            raise ValueError(f'Wrong aggregation method provided! ({aggregation})')\n",
    "            \n",
    "        self.register_buffer('aggregation_matrix', A) \n",
    "        self.linear = nn.Linear(in_channels, out_channels)\n",
    "        \n",
    "    def forward(self, x):\n",
    "        *batch_size, nodes_num, feature_size = x.size()\n",
    "        x = torch.matmul(self.aggregation_matrix, x)\n",
    "        x = x.view(-1, feature_size)\n",
    "        x = self.linear(x)\n",
    "        x = x.view(*batch_size, nodes_num, -1)\n",
    "        return x"
   ]
  },
  {
   "cell_type": "code",
   "execution_count": 220,
   "metadata": {},
   "outputs": [],
   "source": [
    "a = np.array([\n",
    "    [0, 1, 1],\n",
    "    [1, 0, 1],\n",
    "    [1, 1, 0]\n",
    "])\n",
    "\n",
    "gcl = GraphConvLayer(a, in_channels=4, out_channels=10, aggregation='spectral')"
   ]
  },
  {
   "cell_type": "code",
   "execution_count": 221,
   "metadata": {},
   "outputs": [
    {
     "data": {
      "text/plain": [
       "torch.Size([150, 10, 3, 10])"
      ]
     },
     "execution_count": 221,
     "metadata": {},
     "output_type": "execute_result"
    }
   ],
   "source": [
    "x = torch.randn(150, 10, 3, 4)\n",
    "gcl(x).shape"
   ]
  },
  {
   "cell_type": "code",
   "execution_count": 224,
   "metadata": {},
   "outputs": [],
   "source": [
    "class EmotionConvBasic(nn.Module):\n",
    "    def __init__(self, in_channels, output_size):\n",
    "        super().__init__()\n",
    "        self.output_size = output_size\n",
    "        self.conv_layers = nn.Sequential(OrderedDict([\n",
    "            ('conv1', nn.Conv1d(in_channels, 256, kernel_size=3, padding=1, dilation=5)),\n",
    "            ('relu1', nn.ReLU(inplace=True)),\n",
    "            ('bn1', nn.BatchNorm1d(256)),\n",
    "            \n",
    "            ('conv2', nn.Conv1d(256, 256, kernel_size=3, padding=1, dilation=5)),\n",
    "            ('relu2', nn.ReLU(inplace=True)),\n",
    "            ('bn2', nn.BatchNorm1d(256)),\n",
    "            ('pool2', nn.MaxPool1d(kernel_size=2, stride=2)),\n",
    "            \n",
    "            ('conv3', nn.Conv1d(256, 512, kernel_size=3, padding=1, dilation=3)),\n",
    "            ('relu3', nn.ReLU(inplace=True)),\n",
    "            ('bn3', nn.BatchNorm1d(512)),\n",
    "            \n",
    "            ('conv6', nn.Conv1d(512, 512, kernel_size=3, padding=1, dilation=3)),\n",
    "            ('relu6', nn.ReLU(inplace=True)),\n",
    "            ('bn6', nn.BatchNorm1d(512)),\n",
    "            ('pool6', nn.MaxPool1d(kernel_size=2, stride=2)),\n",
    "        ]))\n",
    "        \n",
    "        self.fc = nn.Sequential(OrderedDict([\n",
    "            ('fc1', nn.Linear(512, 256)),\n",
    "            ('relu1', nn.ReLU(inplace=True)),\n",
    "#             ('fc2', nn.Linear(256, 256)),\n",
    "#             ('relu2', nn.ReLU(inplace=True)),\n",
    "            ('fc3', nn.Linear(256, self.output_size)),\n",
    "        ]))\n",
    "        \n",
    "    def forward(self, x):\n",
    "        x = x.permute(0, 2, 1)\n",
    "        x = self.conv_layers(x)\n",
    "        x = x.mean(dim=2) # global average pooling\n",
    "        return self.fc(x)\n",
    "\n",
    "class GemotionNet(nn.Module):\n",
    "    def __init__(self, A, in_channels, nodes_num, output_size):\n",
    "        super().__init__()\n",
    "        self.in_channels = in_channels\n",
    "        self.nodes_num = nodes_num\n",
    "        self.output_size = output_size\n",
    "        self.gcnn = nn.Sequential(OrderedDict([\n",
    "            ('gconv1', GraphConvLayer(A, in_channels, 16, add_identity=True, aggregation='spectral')),\n",
    "            ('relu1', nn.ReLU(inplace=True)),\n",
    "            ('gconv2', GraphConvLayer(A, 16, 32, add_identity=True, aggregation='spectral')),\n",
    "            ('relu2', nn.ReLU(inplace=True)),\n",
    "#             ('gconv3', GraphConvLayer(A, 32, 64, add_identity=True, aggregation='spectral')),\n",
    "#             ('relu3', nn.ReLU(inplace=True)),\n",
    "#             ('gconv4', GraphConvLayer(A, 64, 128, add_identity=True, aggregation='spectral')),\n",
    "#             ('relu4', nn.ReLU(inplace=True)),\n",
    "        ]))\n",
    "        \n",
    "        self.conv_classifier = EmotionConvBasic(in_channels=32*nodes_num, output_size=output_size)\n",
    "    \n",
    "    def forward(self, x):\n",
    "        batch_size, seq_len, c = x.size()\n",
    "        x = x.view(batch_size, seq_len, -1, self.in_channels)\n",
    "        x = self.gcnn(x)\n",
    "        x = x.view(batch_size, seq_len, -1)\n",
    "        x = self.conv_classifier(x)\n",
    "        return x"
   ]
  },
  {
   "cell_type": "code",
   "execution_count": 225,
   "metadata": {},
   "outputs": [
    {
     "name": "stdout",
     "output_type": "stream",
     "text": [
      "torch.Size([10, 120, 216])\n",
      "torch.Size([10, 7])\n"
     ]
    }
   ],
   "source": [
    "model = GemotionNet(A=A_fourway, in_channels=3, nodes_num=72, output_size=7)\n",
    "X = next(iter(train_dl))[0]\n",
    "print(X.shape)\n",
    "print(model(X).shape)"
   ]
  },
  {
   "cell_type": "code",
   "execution_count": 226,
   "metadata": {},
   "outputs": [
    {
     "name": "stdout",
     "output_type": "stream",
     "text": [
      "----------------------------------------------------------------\n",
      "        Layer (type)               Output Shape         Param #\n",
      "================================================================\n",
      "            Linear-1                   [10, 16]              64\n",
      "    GraphConvLayer-2          [10, 240, 72, 16]               0\n",
      "              ReLU-3          [10, 240, 72, 16]               0\n",
      "            Linear-4                   [10, 32]             544\n",
      "    GraphConvLayer-5          [10, 240, 72, 32]               0\n",
      "              ReLU-6          [10, 240, 72, 32]               0\n",
      "            Conv1d-7             [10, 256, 232]       1,769,728\n",
      "              ReLU-8             [10, 256, 232]               0\n",
      "       BatchNorm1d-9             [10, 256, 232]             512\n",
      "           Conv1d-10             [10, 256, 224]         196,864\n",
      "             ReLU-11             [10, 256, 224]               0\n",
      "      BatchNorm1d-12             [10, 256, 224]             512\n",
      "        MaxPool1d-13             [10, 256, 112]               0\n",
      "           Conv1d-14             [10, 512, 108]         393,728\n",
      "             ReLU-15             [10, 512, 108]               0\n",
      "      BatchNorm1d-16             [10, 512, 108]           1,024\n",
      "           Conv1d-17             [10, 512, 104]         786,944\n",
      "             ReLU-18             [10, 512, 104]               0\n",
      "      BatchNorm1d-19             [10, 512, 104]           1,024\n",
      "        MaxPool1d-20              [10, 512, 52]               0\n",
      "           Linear-21                  [10, 256]         131,328\n",
      "             ReLU-22                  [10, 256]               0\n",
      "           Linear-23                    [10, 7]           1,799\n",
      " EmotionConvBasic-24                    [10, 7]               0\n",
      "================================================================\n",
      "Total params: 3,284,071\n",
      "Trainable params: 3,284,071\n",
      "Non-trainable params: 0\n",
      "----------------------------------------------------------------\n",
      "Input size (MB): 1.98\n",
      "Forward/backward pass size (MB): 182.39\n",
      "Params size (MB): 12.53\n",
      "Estimated Total Size (MB): 196.89\n",
      "----------------------------------------------------------------\n"
     ]
    }
   ],
   "source": [
    "summary(model, input_size=(240, 216), batch_size=10, device='cpu')"
   ]
  },
  {
   "cell_type": "markdown",
   "metadata": {},
   "source": [
    "### Train loop"
   ]
  },
  {
   "cell_type": "code",
   "execution_count": 227,
   "metadata": {},
   "outputs": [],
   "source": [
    "device = torch.device('cuda:2')\n",
    "model.to(device)\n",
    "criterion = nn.CrossEntropyLoss()\n",
    "optimizer = torch.optim.Adam(model.parameters(), lr=0.005)\n",
    "scheduler = torch.optim.lr_scheduler.StepLR(optimizer, step_size=10, gamma=0.3)"
   ]
  },
  {
   "cell_type": "code",
   "execution_count": 228,
   "metadata": {},
   "outputs": [],
   "source": [
    "@torch.no_grad()\n",
    "def test(model, test_dl, criterion, device):\n",
    "    model.eval()\n",
    "    batch_loss = []\n",
    "    samples, correct = 0, 0\n",
    "    for X_batch, y_batch in tqdm(test_dl):\n",
    "        batch_size = X_batch.shape[0]\n",
    "        X_batch, y_batch = X_batch.to(device), y_batch.to(device)\n",
    "\n",
    "        y_pred = model(X_batch)\n",
    "        test_loss = criterion(y_pred, y_batch)\n",
    "        batch_loss.append(test_loss.item())\n",
    "\n",
    "        # evaluate accuracy\n",
    "        batch_correct = (torch.argmax(y_pred, dim=1) == y_batch).sum().item()\n",
    "        samples += batch_size\n",
    "        correct += batch_correct\n",
    "\n",
    "    \n",
    "    return np.mean(batch_loss), correct / samples"
   ]
  },
  {
   "cell_type": "code",
   "execution_count": 229,
   "metadata": {},
   "outputs": [],
   "source": [
    "def train(model, train_dl, val_dl, epochs, criterion, optimizer, scheduler, path_to_model):\n",
    "\n",
    "    train_loss, val_loss = [], []\n",
    "    highest_val_accuracy = 0\n",
    "    \n",
    "    for epoch in range(epochs):\n",
    "        model.train()\n",
    "\n",
    "        batch_train_loss = []\n",
    "\n",
    "        for X_batch, y_batch in tqdm(train_dl):\n",
    "            # perform single training step\n",
    "            model.zero_grad()\n",
    "            X_batch, y_batch = X_batch.to(device), y_batch.to(device)\n",
    "            y_pred = model(X_batch)\n",
    "            loss = criterion(y_pred, y_batch)\n",
    "            batch_train_loss.append(loss.item())\n",
    "            loss.backward()\n",
    "#             torch.nn.utils.clip_grad_norm_(model.parameters(), 5.0)\n",
    "            optimizer.step()\n",
    "        \n",
    "        epoch_train_loss = np.mean(batch_train_loss)\n",
    "        train_loss.append(epoch_train_loss)\n",
    "        epoch_val_loss, val_accuracy = test(model, val_dl, criterion, device)\n",
    "        val_loss.append(epoch_val_loss)\n",
    "\n",
    "        if val_accuracy > highest_val_accuracy:\n",
    "            highest_val_accuracy = val_accuracy\n",
    "            torch.save(model.state_dict(), path_to_model)\n",
    "            \n",
    "        scheduler.step()\n",
    "\n",
    "        print(f\"Epoch {epoch + 1}, train loss: {epoch_train_loss}, val_loss: {epoch_val_loss},  val accu: {val_accuracy}\")\n",
    "\n",
    "    model.load_state_dict(torch.load(path_to_model))\n",
    "\n",
    "    return train_loss, val_loss"
   ]
  },
  {
   "cell_type": "code",
   "execution_count": 230,
   "metadata": {
    "scrolled": true
   },
   "outputs": [
    {
     "name": "stderr",
     "output_type": "stream",
     "text": [
      "100%|██████████| 112/112 [00:15<00:00,  7.30it/s]\n",
      "100%|██████████| 15/15 [00:03<00:00,  4.23it/s]\n",
      "  0%|          | 0/112 [00:00<?, ?it/s]"
     ]
    },
    {
     "name": "stdout",
     "output_type": "stream",
     "text": [
      "Epoch 1, train loss: 2.0961657113262584, val_loss: 1.8353211561838785,  val accu: 0.2978723404255319\n"
     ]
    },
    {
     "name": "stderr",
     "output_type": "stream",
     "text": [
      "100%|██████████| 112/112 [00:14<00:00,  7.47it/s]\n",
      "100%|██████████| 15/15 [00:03<00:00,  4.26it/s]\n",
      "  0%|          | 0/112 [00:00<?, ?it/s]"
     ]
    },
    {
     "name": "stdout",
     "output_type": "stream",
     "text": [
      "Epoch 2, train loss: 1.8605482376047544, val_loss: 1.8068360487620037,  val accu: 0.20567375886524822\n"
     ]
    },
    {
     "name": "stderr",
     "output_type": "stream",
     "text": [
      "100%|██████████| 112/112 [00:15<00:00,  7.33it/s]\n",
      "100%|██████████| 15/15 [00:03<00:00,  4.14it/s]\n",
      "  0%|          | 0/112 [00:00<?, ?it/s]"
     ]
    },
    {
     "name": "stdout",
     "output_type": "stream",
     "text": [
      "Epoch 3, train loss: 1.8035896505628313, val_loss: 1.8676209767659506,  val accu: 0.3120567375886525\n"
     ]
    },
    {
     "name": "stderr",
     "output_type": "stream",
     "text": [
      "100%|██████████| 112/112 [00:15<00:00,  7.32it/s]\n",
      "100%|██████████| 15/15 [00:03<00:00,  4.25it/s]\n",
      "  0%|          | 0/112 [00:00<?, ?it/s]"
     ]
    },
    {
     "name": "stdout",
     "output_type": "stream",
     "text": [
      "Epoch 4, train loss: 1.6734639507319247, val_loss: 1.8201829671859742,  val accu: 0.3049645390070922\n"
     ]
    },
    {
     "name": "stderr",
     "output_type": "stream",
     "text": [
      "100%|██████████| 112/112 [00:14<00:00,  7.60it/s]\n",
      "100%|██████████| 15/15 [00:03<00:00,  4.24it/s]\n",
      "  0%|          | 0/112 [00:00<?, ?it/s]"
     ]
    },
    {
     "name": "stdout",
     "output_type": "stream",
     "text": [
      "Epoch 5, train loss: 1.6237971750753266, val_loss: 1.7844235976537068,  val accu: 0.41134751773049644\n"
     ]
    },
    {
     "name": "stderr",
     "output_type": "stream",
     "text": [
      "100%|██████████| 112/112 [00:14<00:00,  7.56it/s]\n",
      "100%|██████████| 15/15 [00:03<00:00,  4.31it/s]\n",
      "  0%|          | 0/112 [00:00<?, ?it/s]"
     ]
    },
    {
     "name": "stdout",
     "output_type": "stream",
     "text": [
      "Epoch 6, train loss: 1.5543711898582322, val_loss: 1.792241390546163,  val accu: 0.3404255319148936\n"
     ]
    },
    {
     "name": "stderr",
     "output_type": "stream",
     "text": [
      "100%|██████████| 112/112 [00:15<00:00,  7.25it/s]\n",
      "100%|██████████| 15/15 [00:03<00:00,  3.87it/s]\n",
      "  0%|          | 0/112 [00:00<?, ?it/s]"
     ]
    },
    {
     "name": "stdout",
     "output_type": "stream",
     "text": [
      "Epoch 7, train loss: 1.4858579635620117, val_loss: 1.5691613992055258,  val accu: 0.45390070921985815\n"
     ]
    },
    {
     "name": "stderr",
     "output_type": "stream",
     "text": [
      "100%|██████████| 112/112 [00:14<00:00,  7.53it/s]\n",
      "100%|██████████| 15/15 [00:03<00:00,  4.18it/s]\n",
      "  0%|          | 0/112 [00:00<?, ?it/s]"
     ]
    },
    {
     "name": "stdout",
     "output_type": "stream",
     "text": [
      "Epoch 8, train loss: 1.4692989949669157, val_loss: 1.786903691291809,  val accu: 0.4397163120567376\n"
     ]
    },
    {
     "name": "stderr",
     "output_type": "stream",
     "text": [
      "100%|██████████| 112/112 [00:15<00:00,  7.40it/s]\n",
      "100%|██████████| 15/15 [00:03<00:00,  4.26it/s]\n",
      "  0%|          | 0/112 [00:00<?, ?it/s]"
     ]
    },
    {
     "name": "stdout",
     "output_type": "stream",
     "text": [
      "Epoch 9, train loss: 1.4549432529934816, val_loss: 3.502985644340515,  val accu: 0.375886524822695\n"
     ]
    },
    {
     "name": "stderr",
     "output_type": "stream",
     "text": [
      "100%|██████████| 112/112 [00:14<00:00,  7.82it/s]\n",
      "100%|██████████| 15/15 [00:03<00:00,  4.02it/s]\n",
      "  0%|          | 0/112 [00:00<?, ?it/s]"
     ]
    },
    {
     "name": "stdout",
     "output_type": "stream",
     "text": [
      "Epoch 10, train loss: 1.3748791201838426, val_loss: 1.687197756767273,  val accu: 0.48936170212765956\n"
     ]
    },
    {
     "name": "stderr",
     "output_type": "stream",
     "text": [
      "100%|██████████| 112/112 [00:15<00:00,  7.27it/s]\n",
      "100%|██████████| 15/15 [00:03<00:00,  4.25it/s]\n",
      "  0%|          | 0/112 [00:00<?, ?it/s]"
     ]
    },
    {
     "name": "stdout",
     "output_type": "stream",
     "text": [
      "Epoch 11, train loss: 1.231896805443934, val_loss: 1.6025867462158203,  val accu: 0.48936170212765956\n"
     ]
    },
    {
     "name": "stderr",
     "output_type": "stream",
     "text": [
      "100%|██████████| 112/112 [00:15<00:00,  7.37it/s]\n",
      "100%|██████████| 15/15 [00:03<00:00,  4.28it/s]\n",
      "  0%|          | 0/112 [00:00<?, ?it/s]"
     ]
    },
    {
     "name": "stdout",
     "output_type": "stream",
     "text": [
      "Epoch 12, train loss: 1.1065124746944224, val_loss: 1.478904871145884,  val accu: 0.5177304964539007\n"
     ]
    },
    {
     "name": "stderr",
     "output_type": "stream",
     "text": [
      "100%|██████████| 112/112 [00:14<00:00,  7.53it/s]\n",
      "100%|██████████| 15/15 [00:03<00:00,  4.27it/s]\n",
      "  0%|          | 0/112 [00:00<?, ?it/s]"
     ]
    },
    {
     "name": "stdout",
     "output_type": "stream",
     "text": [
      "Epoch 13, train loss: 1.069288773196084, val_loss: 1.5143625736236572,  val accu: 0.5106382978723404\n"
     ]
    },
    {
     "name": "stderr",
     "output_type": "stream",
     "text": [
      "100%|██████████| 112/112 [00:14<00:00,  7.48it/s]\n",
      "100%|██████████| 15/15 [00:03<00:00,  3.82it/s]\n",
      "  0%|          | 0/112 [00:00<?, ?it/s]"
     ]
    },
    {
     "name": "stdout",
     "output_type": "stream",
     "text": [
      "Epoch 14, train loss: 1.0831147908632244, val_loss: 1.438617726167043,  val accu: 0.5177304964539007\n"
     ]
    },
    {
     "name": "stderr",
     "output_type": "stream",
     "text": [
      "100%|██████████| 112/112 [00:15<00:00,  7.39it/s]\n",
      "100%|██████████| 15/15 [00:03<00:00,  4.19it/s]\n",
      "  0%|          | 0/112 [00:00<?, ?it/s]"
     ]
    },
    {
     "name": "stdout",
     "output_type": "stream",
     "text": [
      "Epoch 15, train loss: 0.9931314329483679, val_loss: 1.4879401723543804,  val accu: 0.5390070921985816\n"
     ]
    },
    {
     "name": "stderr",
     "output_type": "stream",
     "text": [
      "100%|██████████| 112/112 [00:15<00:00,  7.46it/s]\n",
      "100%|██████████| 15/15 [00:03<00:00,  4.26it/s]\n",
      "  0%|          | 0/112 [00:00<?, ?it/s]"
     ]
    },
    {
     "name": "stdout",
     "output_type": "stream",
     "text": [
      "Epoch 16, train loss: 0.9607512088758605, val_loss: 1.5306195457776388,  val accu: 0.49645390070921985\n"
     ]
    },
    {
     "name": "stderr",
     "output_type": "stream",
     "text": [
      "100%|██████████| 112/112 [00:15<00:00,  7.36it/s]\n",
      "100%|██████████| 15/15 [00:03<00:00,  4.29it/s]\n",
      "  0%|          | 0/112 [00:00<?, ?it/s]"
     ]
    },
    {
     "name": "stdout",
     "output_type": "stream",
     "text": [
      "Epoch 17, train loss: 0.9133878986218146, val_loss: 1.9233631094296773,  val accu: 0.5319148936170213\n"
     ]
    },
    {
     "name": "stderr",
     "output_type": "stream",
     "text": [
      "100%|██████████| 112/112 [00:15<00:00,  7.28it/s]\n",
      "100%|██████████| 15/15 [00:03<00:00,  4.20it/s]\n",
      "  0%|          | 0/112 [00:00<?, ?it/s]"
     ]
    },
    {
     "name": "stdout",
     "output_type": "stream",
     "text": [
      "Epoch 18, train loss: 0.9045513737946749, val_loss: 1.3708146850268046,  val accu: 0.5886524822695035\n"
     ]
    },
    {
     "name": "stderr",
     "output_type": "stream",
     "text": [
      "100%|██████████| 112/112 [00:14<00:00,  7.55it/s]\n",
      "100%|██████████| 15/15 [00:03<00:00,  4.24it/s]\n",
      "  0%|          | 0/112 [00:00<?, ?it/s]"
     ]
    },
    {
     "name": "stdout",
     "output_type": "stream",
     "text": [
      "Epoch 19, train loss: 0.8692178907138961, val_loss: 1.6394891083240508,  val accu: 0.5602836879432624\n"
     ]
    },
    {
     "name": "stderr",
     "output_type": "stream",
     "text": [
      "100%|██████████| 112/112 [00:15<00:00,  7.45it/s]\n",
      "100%|██████████| 15/15 [00:03<00:00,  4.23it/s]\n",
      "  0%|          | 0/112 [00:00<?, ?it/s]"
     ]
    },
    {
     "name": "stdout",
     "output_type": "stream",
     "text": [
      "Epoch 20, train loss: 0.812615932364549, val_loss: 1.5259201486905416,  val accu: 0.5602836879432624\n"
     ]
    },
    {
     "name": "stderr",
     "output_type": "stream",
     "text": [
      "100%|██████████| 112/112 [00:14<00:00,  7.50it/s]\n",
      "100%|██████████| 15/15 [00:03<00:00,  4.16it/s]\n",
      "  0%|          | 0/112 [00:00<?, ?it/s]"
     ]
    },
    {
     "name": "stdout",
     "output_type": "stream",
     "text": [
      "Epoch 21, train loss: 0.6707865675645215, val_loss: 1.2280643542607625,  val accu: 0.6099290780141844\n"
     ]
    },
    {
     "name": "stderr",
     "output_type": "stream",
     "text": [
      "100%|██████████| 112/112 [00:15<00:00,  7.38it/s]\n",
      "100%|██████████| 15/15 [00:03<00:00,  4.25it/s]\n",
      "  0%|          | 0/112 [00:00<?, ?it/s]"
     ]
    },
    {
     "name": "stdout",
     "output_type": "stream",
     "text": [
      "Epoch 22, train loss: 0.6110116932541132, val_loss: 1.4290363868077596,  val accu: 0.5602836879432624\n"
     ]
    },
    {
     "name": "stderr",
     "output_type": "stream",
     "text": [
      "100%|██████████| 112/112 [00:15<00:00,  7.41it/s]\n",
      "100%|██████████| 15/15 [00:03<00:00,  4.17it/s]\n",
      "  0%|          | 0/112 [00:00<?, ?it/s]"
     ]
    },
    {
     "name": "stdout",
     "output_type": "stream",
     "text": [
      "Epoch 23, train loss: 0.595685469917953, val_loss: 1.3442461768786111,  val accu: 0.5815602836879432\n"
     ]
    },
    {
     "name": "stderr",
     "output_type": "stream",
     "text": [
      "100%|██████████| 112/112 [00:14<00:00,  7.61it/s]\n",
      "100%|██████████| 15/15 [00:03<00:00,  3.97it/s]\n",
      "  0%|          | 0/112 [00:00<?, ?it/s]"
     ]
    },
    {
     "name": "stdout",
     "output_type": "stream",
     "text": [
      "Epoch 24, train loss: 0.5484365807580096, val_loss: 1.5027197519938151,  val accu: 0.5815602836879432\n"
     ]
    },
    {
     "name": "stderr",
     "output_type": "stream",
     "text": [
      "100%|██████████| 112/112 [00:14<00:00,  7.74it/s]\n",
      "100%|██████████| 15/15 [00:04<00:00,  3.55it/s]\n",
      "  0%|          | 0/112 [00:00<?, ?it/s]"
     ]
    },
    {
     "name": "stdout",
     "output_type": "stream",
     "text": [
      "Epoch 25, train loss: 0.5032103631778487, val_loss: 1.5199601769447326,  val accu: 0.6382978723404256\n"
     ]
    },
    {
     "name": "stderr",
     "output_type": "stream",
     "text": [
      "100%|██████████| 112/112 [00:15<00:00,  7.39it/s]\n",
      "100%|██████████| 15/15 [00:03<00:00,  4.22it/s]\n",
      "  0%|          | 0/112 [00:00<?, ?it/s]"
     ]
    },
    {
     "name": "stdout",
     "output_type": "stream",
     "text": [
      "Epoch 26, train loss: 0.4854700953167464, val_loss: 1.4679800768693287,  val accu: 0.6028368794326241\n"
     ]
    },
    {
     "name": "stderr",
     "output_type": "stream",
     "text": [
      "100%|██████████| 112/112 [00:14<00:00,  7.47it/s]\n",
      "100%|██████████| 15/15 [00:03<00:00,  3.87it/s]\n",
      "  0%|          | 0/112 [00:00<?, ?it/s]"
     ]
    },
    {
     "name": "stdout",
     "output_type": "stream",
     "text": [
      "Epoch 27, train loss: 0.4818705047613808, val_loss: 1.796922250588735,  val accu: 0.5957446808510638\n"
     ]
    },
    {
     "name": "stderr",
     "output_type": "stream",
     "text": [
      "100%|██████████| 112/112 [00:14<00:00,  7.63it/s]\n",
      "100%|██████████| 15/15 [00:03<00:00,  4.26it/s]\n",
      "  0%|          | 0/112 [00:00<?, ?it/s]"
     ]
    },
    {
     "name": "stdout",
     "output_type": "stream",
     "text": [
      "Epoch 28, train loss: 0.4498462660703808, val_loss: 1.3927305420239766,  val accu: 0.6099290780141844\n"
     ]
    },
    {
     "name": "stderr",
     "output_type": "stream",
     "text": [
      "100%|██████████| 112/112 [00:15<00:00,  7.20it/s]\n",
      "100%|██████████| 15/15 [00:03<00:00,  4.13it/s]\n",
      "  0%|          | 0/112 [00:00<?, ?it/s]"
     ]
    },
    {
     "name": "stdout",
     "output_type": "stream",
     "text": [
      "Epoch 29, train loss: 0.4183904842939228, val_loss: 1.4264478345712026,  val accu: 0.5957446808510638\n"
     ]
    },
    {
     "name": "stderr",
     "output_type": "stream",
     "text": [
      "100%|██████████| 112/112 [00:14<00:00,  7.54it/s]\n",
      "100%|██████████| 15/15 [00:03<00:00,  4.16it/s]\n",
      "  0%|          | 0/112 [00:00<?, ?it/s]"
     ]
    },
    {
     "name": "stdout",
     "output_type": "stream",
     "text": [
      "Epoch 30, train loss: 0.41729003257517305, val_loss: 1.4206987738609314,  val accu: 0.5815602836879432\n"
     ]
    },
    {
     "name": "stderr",
     "output_type": "stream",
     "text": [
      "100%|██████████| 112/112 [00:14<00:00,  7.55it/s]\n",
      "100%|██████████| 15/15 [00:03<00:00,  4.21it/s]\n",
      "  0%|          | 0/112 [00:00<?, ?it/s]"
     ]
    },
    {
     "name": "stdout",
     "output_type": "stream",
     "text": [
      "Epoch 31, train loss: 0.36143442832066547, val_loss: 1.2974597692489624,  val accu: 0.6028368794326241\n"
     ]
    },
    {
     "name": "stderr",
     "output_type": "stream",
     "text": [
      "100%|██████████| 112/112 [00:14<00:00,  7.50it/s]\n",
      "100%|██████████| 15/15 [00:03<00:00,  4.35it/s]\n",
      "  0%|          | 0/112 [00:00<?, ?it/s]"
     ]
    },
    {
     "name": "stdout",
     "output_type": "stream",
     "text": [
      "Epoch 32, train loss: 0.351607298212392, val_loss: 1.328938865661621,  val accu: 0.6028368794326241\n"
     ]
    },
    {
     "name": "stderr",
     "output_type": "stream",
     "text": [
      "100%|██████████| 112/112 [00:15<00:00,  7.22it/s]\n",
      "100%|██████████| 15/15 [00:03<00:00,  4.15it/s]\n",
      "  0%|          | 0/112 [00:00<?, ?it/s]"
     ]
    },
    {
     "name": "stdout",
     "output_type": "stream",
     "text": [
      "Epoch 33, train loss: 0.3203560492090349, val_loss: 1.6612290958563487,  val accu: 0.574468085106383\n"
     ]
    },
    {
     "name": "stderr",
     "output_type": "stream",
     "text": [
      "100%|██████████| 112/112 [00:15<00:00,  7.43it/s]\n",
      "100%|██████████| 15/15 [00:03<00:00,  4.21it/s]\n",
      "  0%|          | 0/112 [00:00<?, ?it/s]"
     ]
    },
    {
     "name": "stdout",
     "output_type": "stream",
     "text": [
      "Epoch 34, train loss: 0.3407188397832215, val_loss: 1.4343315839767456,  val accu: 0.6028368794326241\n"
     ]
    },
    {
     "name": "stderr",
     "output_type": "stream",
     "text": [
      "100%|██████████| 112/112 [00:14<00:00,  7.47it/s]\n",
      "100%|██████████| 15/15 [00:03<00:00,  4.13it/s]\n",
      "  0%|          | 0/112 [00:00<?, ?it/s]"
     ]
    },
    {
     "name": "stdout",
     "output_type": "stream",
     "text": [
      "Epoch 35, train loss: 0.32762463527199415, val_loss: 2.685870385169983,  val accu: 0.5602836879432624\n"
     ]
    },
    {
     "name": "stderr",
     "output_type": "stream",
     "text": [
      "100%|██████████| 112/112 [00:14<00:00,  7.84it/s]\n",
      "100%|██████████| 15/15 [00:04<00:00,  3.62it/s]\n",
      "  0%|          | 0/112 [00:00<?, ?it/s]"
     ]
    },
    {
     "name": "stdout",
     "output_type": "stream",
     "text": [
      "Epoch 36, train loss: 0.2955613041662478, val_loss: 1.4230066061019897,  val accu: 0.5957446808510638\n"
     ]
    },
    {
     "name": "stderr",
     "output_type": "stream",
     "text": [
      "100%|██████████| 112/112 [00:15<00:00,  7.38it/s]\n",
      "100%|██████████| 15/15 [00:03<00:00,  4.22it/s]\n",
      "  0%|          | 0/112 [00:00<?, ?it/s]"
     ]
    },
    {
     "name": "stdout",
     "output_type": "stream",
     "text": [
      "Epoch 37, train loss: 0.2926866502966732, val_loss: 1.4717220703760783,  val accu: 0.5815602836879432\n"
     ]
    },
    {
     "name": "stderr",
     "output_type": "stream",
     "text": [
      "100%|██████████| 112/112 [00:15<00:00,  7.36it/s]\n",
      "100%|██████████| 15/15 [00:03<00:00,  4.22it/s]\n",
      "  0%|          | 0/112 [00:00<?, ?it/s]"
     ]
    },
    {
     "name": "stdout",
     "output_type": "stream",
     "text": [
      "Epoch 38, train loss: 0.3197147900105587, val_loss: 1.3799875617027282,  val accu: 0.5815602836879432\n"
     ]
    },
    {
     "name": "stderr",
     "output_type": "stream",
     "text": [
      "100%|██████████| 112/112 [00:14<00:00,  7.61it/s]\n",
      "100%|██████████| 15/15 [00:03<00:00,  4.26it/s]\n",
      "  0%|          | 0/112 [00:00<?, ?it/s]"
     ]
    },
    {
     "name": "stdout",
     "output_type": "stream",
     "text": [
      "Epoch 39, train loss: 0.2939815191285951, val_loss: 1.4750437517960866,  val accu: 0.574468085106383\n"
     ]
    },
    {
     "name": "stderr",
     "output_type": "stream",
     "text": [
      "100%|██████████| 112/112 [00:15<00:00,  7.32it/s]\n",
      "100%|██████████| 15/15 [00:03<00:00,  4.12it/s]\n",
      "  0%|          | 0/112 [00:00<?, ?it/s]"
     ]
    },
    {
     "name": "stdout",
     "output_type": "stream",
     "text": [
      "Epoch 40, train loss: 0.26527397271378766, val_loss: 1.494576229651769,  val accu: 0.5957446808510638\n"
     ]
    },
    {
     "name": "stderr",
     "output_type": "stream",
     "text": [
      "100%|██████████| 112/112 [00:14<00:00,  7.57it/s]\n",
      "100%|██████████| 15/15 [00:03<00:00,  4.09it/s]\n",
      "  0%|          | 0/112 [00:00<?, ?it/s]"
     ]
    },
    {
     "name": "stdout",
     "output_type": "stream",
     "text": [
      "Epoch 41, train loss: 0.25688387994055767, val_loss: 1.6777040640513101,  val accu: 0.5815602836879432\n"
     ]
    },
    {
     "name": "stderr",
     "output_type": "stream",
     "text": [
      "100%|██████████| 112/112 [00:14<00:00,  7.56it/s]\n",
      "100%|██████████| 15/15 [00:03<00:00,  4.17it/s]\n",
      "  0%|          | 0/112 [00:00<?, ?it/s]"
     ]
    },
    {
     "name": "stdout",
     "output_type": "stream",
     "text": [
      "Epoch 42, train loss: 0.23750947304402611, val_loss: 1.5066017627716064,  val accu: 0.5886524822695035\n"
     ]
    },
    {
     "name": "stderr",
     "output_type": "stream",
     "text": [
      "100%|██████████| 112/112 [00:15<00:00,  7.44it/s]\n",
      "100%|██████████| 15/15 [00:03<00:00,  4.39it/s]\n",
      "  0%|          | 0/112 [00:00<?, ?it/s]"
     ]
    },
    {
     "name": "stdout",
     "output_type": "stream",
     "text": [
      "Epoch 43, train loss: 0.25762721204331945, val_loss: 1.6281474828720093,  val accu: 0.5957446808510638\n"
     ]
    },
    {
     "name": "stderr",
     "output_type": "stream",
     "text": [
      "100%|██████████| 112/112 [00:15<00:00,  7.30it/s]\n",
      "100%|██████████| 15/15 [00:03<00:00,  3.85it/s]\n",
      "  0%|          | 0/112 [00:00<?, ?it/s]"
     ]
    },
    {
     "name": "stdout",
     "output_type": "stream",
     "text": [
      "Epoch 44, train loss: 0.2659640948487712, val_loss: 1.5083961288134258,  val accu: 0.6028368794326241\n"
     ]
    },
    {
     "name": "stderr",
     "output_type": "stream",
     "text": [
      "100%|██████████| 112/112 [00:15<00:00,  7.40it/s]\n",
      "100%|██████████| 15/15 [00:03<00:00,  4.12it/s]\n",
      "  0%|          | 0/112 [00:00<?, ?it/s]"
     ]
    },
    {
     "name": "stdout",
     "output_type": "stream",
     "text": [
      "Epoch 45, train loss: 0.25047698710113764, val_loss: 1.9132433633009593,  val accu: 0.5886524822695035\n"
     ]
    },
    {
     "name": "stderr",
     "output_type": "stream",
     "text": [
      "100%|██████████| 112/112 [00:14<00:00,  7.53it/s]\n",
      "100%|██████████| 15/15 [00:03<00:00,  4.11it/s]\n",
      "  0%|          | 0/112 [00:00<?, ?it/s]"
     ]
    },
    {
     "name": "stdout",
     "output_type": "stream",
     "text": [
      "Epoch 46, train loss: 0.24003713341828967, val_loss: 1.5016451597213745,  val accu: 0.5957446808510638\n"
     ]
    },
    {
     "name": "stderr",
     "output_type": "stream",
     "text": [
      "100%|██████████| 112/112 [00:14<00:00,  7.79it/s]\n",
      "100%|██████████| 15/15 [00:03<00:00,  3.97it/s]\n",
      "  0%|          | 0/112 [00:00<?, ?it/s]"
     ]
    },
    {
     "name": "stdout",
     "output_type": "stream",
     "text": [
      "Epoch 47, train loss: 0.24839452546023363, val_loss: 1.463441757361094,  val accu: 0.574468085106383\n"
     ]
    },
    {
     "name": "stderr",
     "output_type": "stream",
     "text": [
      "100%|██████████| 112/112 [00:15<00:00,  7.24it/s]\n",
      "100%|██████████| 15/15 [00:03<00:00,  4.21it/s]\n",
      "  0%|          | 0/112 [00:00<?, ?it/s]"
     ]
    },
    {
     "name": "stdout",
     "output_type": "stream",
     "text": [
      "Epoch 48, train loss: 0.24901841118532633, val_loss: 1.466358075539271,  val accu: 0.5886524822695035\n"
     ]
    },
    {
     "name": "stderr",
     "output_type": "stream",
     "text": [
      "100%|██████████| 112/112 [00:15<00:00,  7.36it/s]\n",
      "100%|██████████| 15/15 [00:03<00:00,  4.07it/s]\n",
      "  0%|          | 0/112 [00:00<?, ?it/s]"
     ]
    },
    {
     "name": "stdout",
     "output_type": "stream",
     "text": [
      "Epoch 49, train loss: 0.2456886068768134, val_loss: 1.4460155924161275,  val accu: 0.6099290780141844\n"
     ]
    },
    {
     "name": "stderr",
     "output_type": "stream",
     "text": [
      "100%|██████████| 112/112 [00:14<00:00,  7.63it/s]\n",
      "100%|██████████| 15/15 [00:03<00:00,  4.24it/s]"
     ]
    },
    {
     "name": "stdout",
     "output_type": "stream",
     "text": [
      "Epoch 50, train loss: 0.2567216764270727, val_loss: 2.297782242298126,  val accu: 0.5815602836879432\n"
     ]
    },
    {
     "name": "stderr",
     "output_type": "stream",
     "text": [
      "\n"
     ]
    },
    {
     "data": {
      "text/plain": [
       "([2.0961657113262584,\n",
       "  1.8605482376047544,\n",
       "  1.8035896505628313,\n",
       "  1.6734639507319247,\n",
       "  1.6237971750753266,\n",
       "  1.5543711898582322,\n",
       "  1.4858579635620117,\n",
       "  1.4692989949669157,\n",
       "  1.4549432529934816,\n",
       "  1.3748791201838426,\n",
       "  1.231896805443934,\n",
       "  1.1065124746944224,\n",
       "  1.069288773196084,\n",
       "  1.0831147908632244,\n",
       "  0.9931314329483679,\n",
       "  0.9607512088758605,\n",
       "  0.9133878986218146,\n",
       "  0.9045513737946749,\n",
       "  0.8692178907138961,\n",
       "  0.812615932364549,\n",
       "  0.6707865675645215,\n",
       "  0.6110116932541132,\n",
       "  0.595685469917953,\n",
       "  0.5484365807580096,\n",
       "  0.5032103631778487,\n",
       "  0.4854700953167464,\n",
       "  0.4818705047613808,\n",
       "  0.4498462660703808,\n",
       "  0.4183904842939228,\n",
       "  0.41729003257517305,\n",
       "  0.36143442832066547,\n",
       "  0.351607298212392,\n",
       "  0.3203560492090349,\n",
       "  0.3407188397832215,\n",
       "  0.32762463527199415,\n",
       "  0.2955613041662478,\n",
       "  0.2926866502966732,\n",
       "  0.3197147900105587,\n",
       "  0.2939815191285951,\n",
       "  0.26527397271378766,\n",
       "  0.25688387994055767,\n",
       "  0.23750947304402611,\n",
       "  0.25762721204331945,\n",
       "  0.2659640948487712,\n",
       "  0.25047698710113764,\n",
       "  0.24003713341828967,\n",
       "  0.24839452546023363,\n",
       "  0.24901841118532633,\n",
       "  0.2456886068768134,\n",
       "  0.2567216764270727],\n",
       " [1.8353211561838785,\n",
       "  1.8068360487620037,\n",
       "  1.8676209767659506,\n",
       "  1.8201829671859742,\n",
       "  1.7844235976537068,\n",
       "  1.792241390546163,\n",
       "  1.5691613992055258,\n",
       "  1.786903691291809,\n",
       "  3.502985644340515,\n",
       "  1.687197756767273,\n",
       "  1.6025867462158203,\n",
       "  1.478904871145884,\n",
       "  1.5143625736236572,\n",
       "  1.438617726167043,\n",
       "  1.4879401723543804,\n",
       "  1.5306195457776388,\n",
       "  1.9233631094296773,\n",
       "  1.3708146850268046,\n",
       "  1.6394891083240508,\n",
       "  1.5259201486905416,\n",
       "  1.2280643542607625,\n",
       "  1.4290363868077596,\n",
       "  1.3442461768786111,\n",
       "  1.5027197519938151,\n",
       "  1.5199601769447326,\n",
       "  1.4679800768693287,\n",
       "  1.796922250588735,\n",
       "  1.3927305420239766,\n",
       "  1.4264478345712026,\n",
       "  1.4206987738609314,\n",
       "  1.2974597692489624,\n",
       "  1.328938865661621,\n",
       "  1.6612290958563487,\n",
       "  1.4343315839767456,\n",
       "  2.685870385169983,\n",
       "  1.4230066061019897,\n",
       "  1.4717220703760783,\n",
       "  1.3799875617027282,\n",
       "  1.4750437517960866,\n",
       "  1.494576229651769,\n",
       "  1.6777040640513101,\n",
       "  1.5066017627716064,\n",
       "  1.6281474828720093,\n",
       "  1.5083961288134258,\n",
       "  1.9132433633009593,\n",
       "  1.5016451597213745,\n",
       "  1.463441757361094,\n",
       "  1.466358075539271,\n",
       "  1.4460155924161275,\n",
       "  2.297782242298126])"
      ]
     },
     "execution_count": 230,
     "metadata": {},
     "output_type": "execute_result"
    }
   ],
   "source": [
    "train(\n",
    "    model,\n",
    "    train_dl, \n",
    "    val_dl,\n",
    "    epochs=50,\n",
    "    criterion=criterion,\n",
    "    optimizer=optimizer,\n",
    "    scheduler=scheduler,\n",
    "    path_to_model='model_gcnn.pth'\n",
    ")"
   ]
  },
  {
   "cell_type": "code",
   "execution_count": 232,
   "metadata": {},
   "outputs": [
    {
     "name": "stderr",
     "output_type": "stream",
     "text": [
      "100%|██████████| 15/15 [00:03<00:00,  4.23it/s]\n"
     ]
    },
    {
     "data": {
      "text/plain": [
       "(2.5051753640174867, 0.5531914893617021)"
      ]
     },
     "execution_count": 232,
     "metadata": {},
     "output_type": "execute_result"
    }
   ],
   "source": [
    "state_dict = torch.load('model_gcnn.pth')\n",
    "model.load_state_dict(state_dict)\n",
    "test(model, test_dl, criterion, device)"
   ]
  },
  {
   "cell_type": "code",
   "execution_count": 44,
   "metadata": {},
   "outputs": [
    {
     "name": "stderr",
     "output_type": "stream",
     "text": [
      "100%|██████████| 15/15 [00:03<00:00,  4.99it/s]\n"
     ]
    }
   ],
   "source": [
    "y_true_all, y_pred_all = [], []\n",
    "for X, y_true in tqdm(test_dl):\n",
    "    y_pred = model(X.to(device))\n",
    "    y_pred = y_pred.argmax(dim=1)\n",
    "    y_true_all.extend(y_true.tolist())\n",
    "    y_pred_all.extend(y_pred.tolist())    "
   ]
  },
  {
   "cell_type": "code",
   "execution_count": 45,
   "metadata": {},
   "outputs": [],
   "source": [
    "from sklearn.metrics import confusion_matrix\n",
    "from seaborn import heatmap, barplot, histplot\n",
    "import matplotlib.pyplot as plt"
   ]
  },
  {
   "cell_type": "code",
   "execution_count": 46,
   "metadata": {},
   "outputs": [
    {
     "data": {
      "text/plain": [
       "dict_values(['A', 'D', 'F', 'H', 'N', 'SA', 'SU'])"
      ]
     },
     "execution_count": 46,
     "metadata": {},
     "output_type": "execute_result"
    }
   ],
   "source": [
    "labels_to_idx = {'A': 0, 'D': 1, 'F': 2, 'H': 3, 'N': 4, 'SA': 5, 'SU': 6}\n",
    "idx_to_label = {v:k for k,v in labels_to_idx.items()}\n",
    "idx_to_label.values()"
   ]
  },
  {
   "cell_type": "code",
   "execution_count": 47,
   "metadata": {},
   "outputs": [
    {
     "data": {
      "image/png": "[encoded data removed]",
      "text/plain": [
       "<Figure size 576x504 with 2 Axes>"
      ]
     },
     "metadata": {
      "needs_background": "light"
     },
     "output_type": "display_data"
    }
   ],
   "source": [
    "cm = confusion_matrix(y_true_all, y_pred_all)\n",
    "\n",
    "plt.figure(figsize=(8, 7))\n",
    "heatmap(cm, annot=True, xticklabels=idx_to_label.values(), yticklabels=idx_to_label.values())\n",
    "plt.xlabel('Pred')\n",
    "plt.ylabel('True')\n",
    "plt.title('Confusion matrix');"
   ]
  },
  {
   "cell_type": "code",
   "execution_count": 25,
   "metadata": {},
   "outputs": [
    {
     "data": {
      "text/plain": [
       "<AxesSubplot:ylabel='Count'>"
      ]
     },
     "execution_count": 25,
     "metadata": {},
     "output_type": "execute_result"
    },
    {
     "data": {
      "image/png": "[encoded data removed]",
      "text/plain": [
       "<Figure size 432x288 with 1 Axes>"
      ]
     },
     "metadata": {
      "needs_background": "light"
     },
     "output_type": "display_data"
    }
   ],
   "source": [
    "histplot(y_true_all, bins=7)"
   ]
  },
  {
   "cell_type": "markdown",
   "metadata": {},
   "source": [
    "### Parse graph of human body"
   ]
  },
  {
   "cell_type": "code",
   "execution_count": null,
   "metadata": {},
   "outputs": [],
   "source": []
  }
 ],
 "metadata": {
  "kernelspec": {
   "display_name": "Python 3",
   "language": "python",
   "name": "python3"
  },
  "language_info": {
   "codemirror_mode": {
    "name": "ipython",
    "version": 3
   },
   "file_extension": ".py",
   "mimetype": "text/x-python",
   "name": "python",
   "nbconvert_exporter": "python",
   "pygments_lexer": "ipython3",
   "version": "3.7.5"
  }
 },
 "nbformat": 4,
 "nbformat_minor": 4
}
